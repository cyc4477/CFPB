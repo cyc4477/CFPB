{
 "cells": [
  {
   "cell_type": "markdown",
   "id": "2163a134-f853-49eb-9a04-6c76d619504e",
   "metadata": {},
   "source": [
    "# CFPB Analysis"
   ]
  },
  {
   "cell_type": "code",
   "execution_count": 1,
   "id": "da58c88e-1cc0-4878-b9ae-4677515983dd",
   "metadata": {
    "tags": []
   },
   "outputs": [],
   "source": [
    "# Import packages\n",
    "import pandas as pd\n",
    "import numpy as np\n",
    "import matplotlib.pyplot as plt\n",
    "import seaborn as sns\n",
    "from sklearn.model_selection import train_test_split\n",
    "from sklearn.preprocessing import LabelEncoder\n",
    "from imblearn.under_sampling import RandomUnderSampler\n",
    "from xgboost import XGBClassifier\n",
    "from sklearn.metrics import classification_report, confusion_matrix, recall_score"
   ]
  },
  {
   "cell_type": "markdown",
   "id": "f57293a3-1c9e-4b35-874c-eaa9656b30ac",
   "metadata": {},
   "source": [
    "## 1. Load Data and Some EDA"
   ]
  },
  {
   "cell_type": "code",
   "execution_count": 2,
   "id": "7e1546ed-8806-4745-a982-d389bb254478",
   "metadata": {
    "tags": []
   },
   "outputs": [
    {
     "data": {
      "text/html": [
       "<div>\n",
       "<style scoped>\n",
       "    .dataframe tbody tr th:only-of-type {\n",
       "        vertical-align: middle;\n",
       "    }\n",
       "\n",
       "    .dataframe tbody tr th {\n",
       "        vertical-align: top;\n",
       "    }\n",
       "\n",
       "    .dataframe thead th {\n",
       "        text-align: right;\n",
       "    }\n",
       "</style>\n",
       "<table border=\"1\" class=\"dataframe\">\n",
       "  <thead>\n",
       "    <tr style=\"text-align: right;\">\n",
       "      <th></th>\n",
       "      <th>Date received</th>\n",
       "      <th>Product</th>\n",
       "      <th>Sub-product</th>\n",
       "      <th>Issue</th>\n",
       "      <th>Sub-issue</th>\n",
       "      <th>Consumer complaint narrative</th>\n",
       "      <th>Company public response</th>\n",
       "      <th>Company</th>\n",
       "      <th>State</th>\n",
       "      <th>ZIP code</th>\n",
       "      <th>Tags</th>\n",
       "      <th>Consumer consent provided?</th>\n",
       "      <th>Submitted via</th>\n",
       "      <th>Date sent to company</th>\n",
       "      <th>Company response to consumer</th>\n",
       "      <th>Timely response?</th>\n",
       "      <th>Consumer disputed?</th>\n",
       "      <th>Complaint ID</th>\n",
       "    </tr>\n",
       "  </thead>\n",
       "  <tbody>\n",
       "    <tr>\n",
       "      <th>0</th>\n",
       "      <td>2016-10-26</td>\n",
       "      <td>Money transfers</td>\n",
       "      <td>International money transfer</td>\n",
       "      <td>Other transaction issues</td>\n",
       "      <td>NaN</td>\n",
       "      <td>To whom it concerns, I would like to file a fo...</td>\n",
       "      <td>Company has responded to the consumer and the ...</td>\n",
       "      <td>CITIBANK, N.A.</td>\n",
       "      <td>NaN</td>\n",
       "      <td>NaN</td>\n",
       "      <td>NaN</td>\n",
       "      <td>Consent provided</td>\n",
       "      <td>Web</td>\n",
       "      <td>2016-10-29</td>\n",
       "      <td>Closed with explanation</td>\n",
       "      <td>Yes</td>\n",
       "      <td>No</td>\n",
       "      <td>2180490</td>\n",
       "    </tr>\n",
       "    <tr>\n",
       "      <th>1</th>\n",
       "      <td>2015-03-27</td>\n",
       "      <td>Bank account or service</td>\n",
       "      <td>Other bank product/service</td>\n",
       "      <td>Account opening, closing, or management</td>\n",
       "      <td>NaN</td>\n",
       "      <td>My name is XXXX XXXX XXXX and huband name is X...</td>\n",
       "      <td>Company chooses not to provide a public response</td>\n",
       "      <td>CITIBANK, N.A.</td>\n",
       "      <td>PA</td>\n",
       "      <td>151XX</td>\n",
       "      <td>Older American</td>\n",
       "      <td>Consent provided</td>\n",
       "      <td>Web</td>\n",
       "      <td>2015-03-27</td>\n",
       "      <td>Closed with explanation</td>\n",
       "      <td>Yes</td>\n",
       "      <td>No</td>\n",
       "      <td>1305453</td>\n",
       "    </tr>\n",
       "    <tr>\n",
       "      <th>2</th>\n",
       "      <td>2015-04-20</td>\n",
       "      <td>Bank account or service</td>\n",
       "      <td>Other bank product/service</td>\n",
       "      <td>Making/receiving payments, sending money</td>\n",
       "      <td>NaN</td>\n",
       "      <td>XXXX 2015 : I called to make a payment on XXXX...</td>\n",
       "      <td>Company chooses not to provide a public response</td>\n",
       "      <td>U.S. BANCORP</td>\n",
       "      <td>PA</td>\n",
       "      <td>152XX</td>\n",
       "      <td>NaN</td>\n",
       "      <td>Consent provided</td>\n",
       "      <td>Web</td>\n",
       "      <td>2015-04-22</td>\n",
       "      <td>Closed with monetary relief</td>\n",
       "      <td>Yes</td>\n",
       "      <td>No</td>\n",
       "      <td>1337613</td>\n",
       "    </tr>\n",
       "    <tr>\n",
       "      <th>3</th>\n",
       "      <td>2013-04-29</td>\n",
       "      <td>Mortgage</td>\n",
       "      <td>Conventional fixed mortgage</td>\n",
       "      <td>Application, originator, mortgage broker</td>\n",
       "      <td>NaN</td>\n",
       "      <td>NaN</td>\n",
       "      <td>NaN</td>\n",
       "      <td>JPMORGAN CHASE &amp; CO.</td>\n",
       "      <td>VA</td>\n",
       "      <td>22406</td>\n",
       "      <td>Servicemember</td>\n",
       "      <td>NaN</td>\n",
       "      <td>Phone</td>\n",
       "      <td>2013-04-30</td>\n",
       "      <td>Closed with explanation</td>\n",
       "      <td>Yes</td>\n",
       "      <td>Yes</td>\n",
       "      <td>393900</td>\n",
       "    </tr>\n",
       "    <tr>\n",
       "      <th>4</th>\n",
       "      <td>2013-05-29</td>\n",
       "      <td>Mortgage</td>\n",
       "      <td>Other mortgage</td>\n",
       "      <td>Loan modification,collection,foreclosure</td>\n",
       "      <td>NaN</td>\n",
       "      <td>NaN</td>\n",
       "      <td>NaN</td>\n",
       "      <td>BANK OF AMERICA, NATIONAL ASSOCIATION</td>\n",
       "      <td>GA</td>\n",
       "      <td>30044</td>\n",
       "      <td>NaN</td>\n",
       "      <td>NaN</td>\n",
       "      <td>Referral</td>\n",
       "      <td>2013-05-31</td>\n",
       "      <td>Closed with explanation</td>\n",
       "      <td>Yes</td>\n",
       "      <td>No</td>\n",
       "      <td>418647</td>\n",
       "    </tr>\n",
       "  </tbody>\n",
       "</table>\n",
       "</div>"
      ],
      "text/plain": [
       "  Date received                  Product                   Sub-product  \\\n",
       "0    2016-10-26          Money transfers  International money transfer   \n",
       "1    2015-03-27  Bank account or service    Other bank product/service   \n",
       "2    2015-04-20  Bank account or service    Other bank product/service   \n",
       "3    2013-04-29                 Mortgage   Conventional fixed mortgage   \n",
       "4    2013-05-29                 Mortgage                Other mortgage   \n",
       "\n",
       "                                      Issue Sub-issue  \\\n",
       "0                  Other transaction issues       NaN   \n",
       "1   Account opening, closing, or management       NaN   \n",
       "2  Making/receiving payments, sending money       NaN   \n",
       "3  Application, originator, mortgage broker       NaN   \n",
       "4  Loan modification,collection,foreclosure       NaN   \n",
       "\n",
       "                        Consumer complaint narrative  \\\n",
       "0  To whom it concerns, I would like to file a fo...   \n",
       "1  My name is XXXX XXXX XXXX and huband name is X...   \n",
       "2  XXXX 2015 : I called to make a payment on XXXX...   \n",
       "3                                                NaN   \n",
       "4                                                NaN   \n",
       "\n",
       "                             Company public response  \\\n",
       "0  Company has responded to the consumer and the ...   \n",
       "1   Company chooses not to provide a public response   \n",
       "2   Company chooses not to provide a public response   \n",
       "3                                                NaN   \n",
       "4                                                NaN   \n",
       "\n",
       "                                 Company State ZIP code            Tags  \\\n",
       "0                         CITIBANK, N.A.   NaN      NaN             NaN   \n",
       "1                         CITIBANK, N.A.    PA    151XX  Older American   \n",
       "2                           U.S. BANCORP    PA    152XX             NaN   \n",
       "3                   JPMORGAN CHASE & CO.    VA    22406   Servicemember   \n",
       "4  BANK OF AMERICA, NATIONAL ASSOCIATION    GA    30044             NaN   \n",
       "\n",
       "  Consumer consent provided? Submitted via Date sent to company  \\\n",
       "0           Consent provided           Web           2016-10-29   \n",
       "1           Consent provided           Web           2015-03-27   \n",
       "2           Consent provided           Web           2015-04-22   \n",
       "3                        NaN         Phone           2013-04-30   \n",
       "4                        NaN      Referral           2013-05-31   \n",
       "\n",
       "  Company response to consumer Timely response? Consumer disputed?  \\\n",
       "0      Closed with explanation              Yes                 No   \n",
       "1      Closed with explanation              Yes                 No   \n",
       "2  Closed with monetary relief              Yes                 No   \n",
       "3      Closed with explanation              Yes                Yes   \n",
       "4      Closed with explanation              Yes                 No   \n",
       "\n",
       "   Complaint ID  \n",
       "0       2180490  \n",
       "1       1305453  \n",
       "2       1337613  \n",
       "3        393900  \n",
       "4        418647  "
      ]
     },
     "execution_count": 2,
     "metadata": {},
     "output_type": "execute_result"
    }
   ],
   "source": [
    "# Load the data\n",
    "df = pd.read_csv('shared/complaints_25Nov21.csv')\n",
    "\n",
    "# Perform basic data exploration\n",
    "df.head()  # Display the first few rows of the dataset\n"
   ]
  },
  {
   "cell_type": "code",
   "execution_count": 3,
   "id": "2da7358a-5bae-4caf-ad65-88022506d450",
   "metadata": {
    "tags": []
   },
   "outputs": [
    {
     "name": "stdout",
     "output_type": "stream",
     "text": [
      "<class 'pandas.core.frame.DataFrame'>\n",
      "RangeIndex: 207260 entries, 0 to 207259\n",
      "Data columns (total 18 columns):\n",
      " #   Column                        Non-Null Count   Dtype \n",
      "---  ------                        --------------   ----- \n",
      " 0   Date received                 207260 non-null  object\n",
      " 1   Product                       207260 non-null  object\n",
      " 2   Sub-product                   164245 non-null  object\n",
      " 3   Issue                         207260 non-null  object\n",
      " 4   Sub-issue                     10347 non-null   object\n",
      " 5   Consumer complaint narrative  29391 non-null   object\n",
      " 6   Company public response       58458 non-null   object\n",
      " 7   Company                       207260 non-null  object\n",
      " 8   State                         205066 non-null  object\n",
      " 9   ZIP code                      197974 non-null  object\n",
      " 10  Tags                          28265 non-null   object\n",
      " 11  Consumer consent provided?    51313 non-null   object\n",
      " 12  Submitted via                 207260 non-null  object\n",
      " 13  Date sent to company          207260 non-null  object\n",
      " 14  Company response to consumer  207260 non-null  object\n",
      " 15  Timely response?              207260 non-null  object\n",
      " 16  Consumer disputed?            207260 non-null  object\n",
      " 17  Complaint ID                  207260 non-null  int64 \n",
      "dtypes: int64(1), object(17)\n",
      "memory usage: 28.5+ MB\n"
     ]
    }
   ],
   "source": [
    "df.info()  # Get information about the dataset"
   ]
  },
  {
   "cell_type": "code",
   "execution_count": 4,
   "id": "8514636c-0660-4170-8fca-20f51bb19b27",
   "metadata": {
    "tags": []
   },
   "outputs": [
    {
     "data": {
      "text/plain": [
       "Text(0, 0.5, 'Product')"
      ]
     },
     "execution_count": 4,
     "metadata": {},
     "output_type": "execute_result"
    },
    {
     "data": {
      "image/png": "[encoded data removed]",
      "text/plain": [
       "<Figure size 640x480 with 1 Axes>"
      ]
     },
     "metadata": {},
     "output_type": "display_data"
    }
   ],
   "source": [
    "# Visualize the data to compare the complaints base on products\n",
    "data = df[df['Consumer complaint narrative'].isnull()==False]\n",
    "product_distribution = data.groupby('Product').count().reset_index()\n",
    "plt.rcParams.update({'font.size':8})\n",
    "sns.barplot(x=product_distribution['Consumer complaint narrative'], y=product_distribution['Product'])\n",
    "plt.xlabel('Count Consumer Complaint Narrative')\n",
    "plt.ylabel('Product')"
   ]
  },
  {
   "cell_type": "code",
   "execution_count": 5,
   "id": "f968f66c-d160-4758-b2ff-58ac496a4a55",
   "metadata": {
    "tags": []
   },
   "outputs": [],
   "source": [
    "df['Date received'] = pd.to_datetime(df['Date received'])\n",
    "# Get the year that the complaint took place as a separate column\n",
    "df['Year'] = df['Date received'].apply(lambda date: date.year)"
   ]
  },
  {
   "cell_type": "code",
   "execution_count": 6,
   "id": "b3c383a8-45d0-4923-810c-4fff3442047a",
   "metadata": {
    "tags": []
   },
   "outputs": [
    {
     "data": {
      "image/png": "[encoded data removed]",
      "text/plain": [
       "<Figure size 1000x800 with 1 Axes>"
      ]
     },
     "metadata": {},
     "output_type": "display_data"
    }
   ],
   "source": [
    "# Vizualize the data to compare base on Year\n",
    "hue = None\n",
    "figsize=(10,8)\n",
    "plt.figure(figsize=figsize)\n",
    "sns.countplot(y=df['Year'], hue=hue,order=df['Year'].value_counts().index)\n",
    "plt.xlabel('Count')\n",
    "plt.ylabel('Year')\n",
    "plt.title(f'Number of Complaints per Year', fontweight=\"bold\")\n",
    "plt.grid(True, alpha=0.2, color='black')\n",
    "plt.show()"
   ]
  },
  {
   "cell_type": "code",
   "execution_count": 7,
   "id": "9ccc7566-c603-467f-a9a4-44ad440d0744",
   "metadata": {
    "tags": []
   },
   "outputs": [
    {
     "data": {
      "image/png": "[encoded data removed]",
      "text/plain": [
       "<Figure size 1200x600 with 1 Axes>"
      ]
     },
     "metadata": {},
     "output_type": "display_data"
    }
   ],
   "source": [
    "# Get the needed columns\n",
    "state_complaints = df['State'].value_counts().reset_index()\n",
    "state_complaints.columns = ['State', 'Complaints']\n",
    "\n",
    "# Sort the states by the number of complaints in descending order\n",
    "state_complaints = state_complaints.sort_values(by='Complaints', ascending=False)\n",
    "\n",
    "# Plot the top N states with the most complaints\n",
    "N = 10  \n",
    "top_states = state_complaints.head(N)\n",
    "\n",
    "plt.figure(figsize=(12, 6))\n",
    "plt.bar(top_states['State'], top_states['Complaints'])\n",
    "plt.title(f'Top {N} States with the Most Complaints')\n",
    "plt.xlabel('State')\n",
    "plt.ylabel('Number of Complaints')\n",
    "plt.xticks(rotation=45)\n",
    "plt.show()\n"
   ]
  },
  {
   "cell_type": "code",
   "execution_count": 8,
   "id": "ca959b8a-39ae-46ea-b401-abad836552a1",
   "metadata": {
    "tags": []
   },
   "outputs": [
    {
     "data": {
      "image/png": "[encoded data removed]",
      "text/plain": [
       "<Figure size 1000x600 with 1 Axes>"
      ]
     },
     "metadata": {},
     "output_type": "display_data"
    }
   ],
   "source": [
    "# Get needed columns\n",
    "submitted_via_counts = df['Submitted via'].value_counts().reset_index()\n",
    "submitted_via_counts.columns = ['Submitted via', 'Complaints']\n",
    "\n",
    "plt.figure(figsize=(10, 6))\n",
    "plt.bar(submitted_via_counts['Submitted via'], submitted_via_counts['Complaints'])\n",
    "plt.title('Distribution of Complaints by Submission Method')\n",
    "plt.xlabel('Submitted via')\n",
    "plt.ylabel('Number of Complaints')\n",
    "plt.xticks(rotation=45)\n",
    "plt.show()\n"
   ]
  },
  {
   "cell_type": "markdown",
   "id": "a0a38c7e-4630-4633-a1e4-84d7ab20a1b7",
   "metadata": {},
   "source": [
    "## 2. Set X (predictor) and y (predicted) variables. \n",
    "## 3. Convert y in between 0 and 1"
   ]
  },
  {
   "cell_type": "code",
   "execution_count": 9,
   "id": "bf744cde-d6e4-4890-97a6-614fb61c096e",
   "metadata": {
    "tags": []
   },
   "outputs": [],
   "source": [
    "df = df.fillna(\"unknown\")"
   ]
  },
  {
   "cell_type": "code",
   "execution_count": 10,
   "id": "b161cd61-17ed-4b24-914d-b8ded5a3e863",
   "metadata": {
    "tags": []
   },
   "outputs": [
    {
     "data": {
      "text/html": [
       "<div>\n",
       "<style scoped>\n",
       "    .dataframe tbody tr th:only-of-type {\n",
       "        vertical-align: middle;\n",
       "    }\n",
       "\n",
       "    .dataframe tbody tr th {\n",
       "        vertical-align: top;\n",
       "    }\n",
       "\n",
       "    .dataframe thead th {\n",
       "        text-align: right;\n",
       "    }\n",
       "</style>\n",
       "<table border=\"1\" class=\"dataframe\">\n",
       "  <thead>\n",
       "    <tr style=\"text-align: right;\">\n",
       "      <th></th>\n",
       "      <th>Date received</th>\n",
       "      <th>Product</th>\n",
       "      <th>Sub-product</th>\n",
       "      <th>Issue</th>\n",
       "      <th>Sub-issue</th>\n",
       "      <th>Consumer complaint narrative</th>\n",
       "      <th>Company public response</th>\n",
       "      <th>Company</th>\n",
       "      <th>State</th>\n",
       "      <th>ZIP code</th>\n",
       "      <th>Tags</th>\n",
       "      <th>Consumer consent provided?</th>\n",
       "      <th>Submitted via</th>\n",
       "      <th>Date sent to company</th>\n",
       "      <th>Company response to consumer</th>\n",
       "      <th>Timely response?</th>\n",
       "      <th>Consumer disputed?</th>\n",
       "      <th>Complaint ID</th>\n",
       "      <th>Year</th>\n",
       "    </tr>\n",
       "  </thead>\n",
       "  <tbody>\n",
       "    <tr>\n",
       "      <th>0</th>\n",
       "      <td>2016-10-26</td>\n",
       "      <td>Money transfers</td>\n",
       "      <td>International money transfer</td>\n",
       "      <td>Other transaction issues</td>\n",
       "      <td>unknown</td>\n",
       "      <td>To whom it concerns, I would like to file a fo...</td>\n",
       "      <td>Company has responded to the consumer and the ...</td>\n",
       "      <td>CITIBANK, N.A.</td>\n",
       "      <td>unknown</td>\n",
       "      <td>unknown</td>\n",
       "      <td>unknown</td>\n",
       "      <td>Consent provided</td>\n",
       "      <td>Web</td>\n",
       "      <td>2016-10-29</td>\n",
       "      <td>Closed with explanation</td>\n",
       "      <td>Yes</td>\n",
       "      <td>No</td>\n",
       "      <td>2180490</td>\n",
       "      <td>2016</td>\n",
       "    </tr>\n",
       "    <tr>\n",
       "      <th>1</th>\n",
       "      <td>2015-03-27</td>\n",
       "      <td>Bank account or service</td>\n",
       "      <td>Other bank product/service</td>\n",
       "      <td>Account opening, closing, or management</td>\n",
       "      <td>unknown</td>\n",
       "      <td>My name is XXXX XXXX XXXX and huband name is X...</td>\n",
       "      <td>Company chooses not to provide a public response</td>\n",
       "      <td>CITIBANK, N.A.</td>\n",
       "      <td>PA</td>\n",
       "      <td>151XX</td>\n",
       "      <td>Older American</td>\n",
       "      <td>Consent provided</td>\n",
       "      <td>Web</td>\n",
       "      <td>2015-03-27</td>\n",
       "      <td>Closed with explanation</td>\n",
       "      <td>Yes</td>\n",
       "      <td>No</td>\n",
       "      <td>1305453</td>\n",
       "      <td>2015</td>\n",
       "    </tr>\n",
       "    <tr>\n",
       "      <th>2</th>\n",
       "      <td>2015-04-20</td>\n",
       "      <td>Bank account or service</td>\n",
       "      <td>Other bank product/service</td>\n",
       "      <td>Making/receiving payments, sending money</td>\n",
       "      <td>unknown</td>\n",
       "      <td>XXXX 2015 : I called to make a payment on XXXX...</td>\n",
       "      <td>Company chooses not to provide a public response</td>\n",
       "      <td>U.S. BANCORP</td>\n",
       "      <td>PA</td>\n",
       "      <td>152XX</td>\n",
       "      <td>unknown</td>\n",
       "      <td>Consent provided</td>\n",
       "      <td>Web</td>\n",
       "      <td>2015-04-22</td>\n",
       "      <td>Closed with monetary relief</td>\n",
       "      <td>Yes</td>\n",
       "      <td>No</td>\n",
       "      <td>1337613</td>\n",
       "      <td>2015</td>\n",
       "    </tr>\n",
       "    <tr>\n",
       "      <th>3</th>\n",
       "      <td>2013-04-29</td>\n",
       "      <td>Mortgage</td>\n",
       "      <td>Conventional fixed mortgage</td>\n",
       "      <td>Application, originator, mortgage broker</td>\n",
       "      <td>unknown</td>\n",
       "      <td>unknown</td>\n",
       "      <td>unknown</td>\n",
       "      <td>JPMORGAN CHASE &amp; CO.</td>\n",
       "      <td>VA</td>\n",
       "      <td>22406</td>\n",
       "      <td>Servicemember</td>\n",
       "      <td>unknown</td>\n",
       "      <td>Phone</td>\n",
       "      <td>2013-04-30</td>\n",
       "      <td>Closed with explanation</td>\n",
       "      <td>Yes</td>\n",
       "      <td>Yes</td>\n",
       "      <td>393900</td>\n",
       "      <td>2013</td>\n",
       "    </tr>\n",
       "    <tr>\n",
       "      <th>4</th>\n",
       "      <td>2013-05-29</td>\n",
       "      <td>Mortgage</td>\n",
       "      <td>Other mortgage</td>\n",
       "      <td>Loan modification,collection,foreclosure</td>\n",
       "      <td>unknown</td>\n",
       "      <td>unknown</td>\n",
       "      <td>unknown</td>\n",
       "      <td>BANK OF AMERICA, NATIONAL ASSOCIATION</td>\n",
       "      <td>GA</td>\n",
       "      <td>30044</td>\n",
       "      <td>unknown</td>\n",
       "      <td>unknown</td>\n",
       "      <td>Referral</td>\n",
       "      <td>2013-05-31</td>\n",
       "      <td>Closed with explanation</td>\n",
       "      <td>Yes</td>\n",
       "      <td>No</td>\n",
       "      <td>418647</td>\n",
       "      <td>2013</td>\n",
       "    </tr>\n",
       "  </tbody>\n",
       "</table>\n",
       "</div>"
      ],
      "text/plain": [
       "  Date received                  Product                   Sub-product  \\\n",
       "0    2016-10-26          Money transfers  International money transfer   \n",
       "1    2015-03-27  Bank account or service    Other bank product/service   \n",
       "2    2015-04-20  Bank account or service    Other bank product/service   \n",
       "3    2013-04-29                 Mortgage   Conventional fixed mortgage   \n",
       "4    2013-05-29                 Mortgage                Other mortgage   \n",
       "\n",
       "                                      Issue Sub-issue  \\\n",
       "0                  Other transaction issues   unknown   \n",
       "1   Account opening, closing, or management   unknown   \n",
       "2  Making/receiving payments, sending money   unknown   \n",
       "3  Application, originator, mortgage broker   unknown   \n",
       "4  Loan modification,collection,foreclosure   unknown   \n",
       "\n",
       "                        Consumer complaint narrative  \\\n",
       "0  To whom it concerns, I would like to file a fo...   \n",
       "1  My name is XXXX XXXX XXXX and huband name is X...   \n",
       "2  XXXX 2015 : I called to make a payment on XXXX...   \n",
       "3                                            unknown   \n",
       "4                                            unknown   \n",
       "\n",
       "                             Company public response  \\\n",
       "0  Company has responded to the consumer and the ...   \n",
       "1   Company chooses not to provide a public response   \n",
       "2   Company chooses not to provide a public response   \n",
       "3                                            unknown   \n",
       "4                                            unknown   \n",
       "\n",
       "                                 Company    State ZIP code            Tags  \\\n",
       "0                         CITIBANK, N.A.  unknown  unknown         unknown   \n",
       "1                         CITIBANK, N.A.       PA    151XX  Older American   \n",
       "2                           U.S. BANCORP       PA    152XX         unknown   \n",
       "3                   JPMORGAN CHASE & CO.       VA    22406   Servicemember   \n",
       "4  BANK OF AMERICA, NATIONAL ASSOCIATION       GA    30044         unknown   \n",
       "\n",
       "  Consumer consent provided? Submitted via Date sent to company  \\\n",
       "0           Consent provided           Web           2016-10-29   \n",
       "1           Consent provided           Web           2015-03-27   \n",
       "2           Consent provided           Web           2015-04-22   \n",
       "3                    unknown         Phone           2013-04-30   \n",
       "4                    unknown      Referral           2013-05-31   \n",
       "\n",
       "  Company response to consumer Timely response? Consumer disputed?  \\\n",
       "0      Closed with explanation              Yes                 No   \n",
       "1      Closed with explanation              Yes                 No   \n",
       "2  Closed with monetary relief              Yes                 No   \n",
       "3      Closed with explanation              Yes                Yes   \n",
       "4      Closed with explanation              Yes                 No   \n",
       "\n",
       "   Complaint ID  Year  \n",
       "0       2180490  2016  \n",
       "1       1305453  2015  \n",
       "2       1337613  2015  \n",
       "3        393900  2013  \n",
       "4        418647  2013  "
      ]
     },
     "execution_count": 10,
     "metadata": {},
     "output_type": "execute_result"
    }
   ],
   "source": [
    "# Display the first few rows of the dataset \n",
    "# to make sure NA has change to unknown\n",
    "df.head() "
   ]
  },
  {
   "cell_type": "code",
   "execution_count": 11,
   "id": "da0eaf00-6edb-41f3-b49d-7c777d83fd3e",
   "metadata": {
    "tags": []
   },
   "outputs": [],
   "source": [
    "# Selecting the predictors as specified\n",
    "predictor_columns = ['Product', 'Sub-product', 'Issue', 'State', 'Tags', 'Submitted via', 'Company response to consumer', 'Timely response?']\n",
    "X = df[predictor_columns]\n",
    "\n",
    "# Convert X to numeric\n",
    "X = pd.get_dummies(X, predictor_columns)\n",
    "\n",
    "# Convert 'Consumer disputed?' to binary labels\n",
    "le = LabelEncoder()\n",
    "y = le.fit_transform(df['Consumer disputed?'])\n",
    "\n"
   ]
  },
  {
   "cell_type": "markdown",
   "id": "84f75f1b-57b1-4ef5-ae83-67ca58f3fb60",
   "metadata": {},
   "source": [
    "## 4. Split your data into a test and train set."
   ]
  },
  {
   "cell_type": "code",
   "execution_count": 12,
   "id": "e39e3fd5-aa18-482f-a28c-21f6ffb357c6",
   "metadata": {
    "tags": []
   },
   "outputs": [],
   "source": [
    "# Split the dataset\n",
    "X_train, X_test, y_train, y_test = train_test_split(X, y, test_size=0.2, random_state=123)\n"
   ]
  },
  {
   "cell_type": "markdown",
   "id": "b8b707f8-e16b-4dc8-a1d4-fbb829fdc140",
   "metadata": {},
   "source": [
    "## 5. Check what proportion of complaints in your training dataset are disputed."
   ]
  },
  {
   "cell_type": "code",
   "execution_count": 13,
   "id": "3f992e4d-c69d-4e0e-ac53-2f7a5bf027c8",
   "metadata": {
    "tags": []
   },
   "outputs": [
    {
     "data": {
      "text/plain": [
       "0.21586413200810575"
      ]
     },
     "execution_count": 13,
     "metadata": {},
     "output_type": "execute_result"
    }
   ],
   "source": [
    "# Q1\n",
    "# Calculate the proportion of consumers who raised a dispute in the test set \n",
    "proportion_disputed_test = sum(y_test) / len(y_test)\n",
    "proportion_disputed_test"
   ]
  },
  {
   "cell_type": "code",
   "execution_count": 14,
   "id": "b364e973-044e-45fe-93a6-16c7515e8b24",
   "metadata": {
    "tags": []
   },
   "outputs": [
    {
     "data": {
      "text/plain": [
       "0.21684719675769565"
      ]
     },
     "execution_count": 14,
     "metadata": {},
     "output_type": "execute_result"
    }
   ],
   "source": [
    "# Q2\n",
    "# Calculate the proportion of consumers who raised a dispute in the train set\n",
    "proportion_disputed = sum(y_train) / len(y_train)\n",
    "proportion_disputed"
   ]
  },
  {
   "cell_type": "code",
   "execution_count": 15,
   "id": "82b62312-8089-464b-a9b4-18f17ddc4741",
   "metadata": {
    "tags": []
   },
   "outputs": [
    {
     "name": "stdout",
     "output_type": "stream",
     "text": [
      "Proportion of disputed complaints after undersampling: 0.5\n"
     ]
    }
   ],
   "source": [
    "# Set a number (e.g., 0.3) to determine if random undersampling is needed\n",
    "sample = 0.3\n",
    "\n",
    "if proportion_disputed < sample:\n",
    "    # Apply random undersampling to balance the dataset\n",
    "    undersampler = RandomUnderSampler(random_state=123)\n",
    "    X_train_resampled, y_train_resampled = undersampler.fit_resample(X, y)\n",
    "    print(\"Proportion of disputed complaints after undersampling:\", sum(y_train_resampled) / len(y_train_resampled))\n",
    "else:\n",
    "    X_train_resampled, y_train_resampled = X_train, y_train\n",
    "    print(\"No undersampling applied, as the proportion of disputed complaints is sufficient.\")\n"
   ]
  },
  {
   "cell_type": "markdown",
   "id": "397b2029-4073-4eb1-97ec-2934733903b6",
   "metadata": {},
   "source": [
    "## 6. Train a predictive model"
   ]
  },
  {
   "cell_type": "code",
   "execution_count": 16,
   "id": "37e89039-602f-4b81-9c47-bc27f2618419",
   "metadata": {
    "tags": []
   },
   "outputs": [
    {
     "data": {
      "text/html": [
       "<style>#sk-container-id-1 {color: black;}#sk-container-id-1 pre{padding: 0;}#sk-container-id-1 div.sk-toggleable {background-color: white;}#sk-container-id-1 label.sk-toggleable__label {cursor: pointer;display: block;width: 100%;margin-bottom: 0;padding: 0.3em;box-sizing: border-box;text-align: center;}#sk-container-id-1 label.sk-toggleable__label-arrow:before {content: \"▸\";float: left;margin-right: 0.25em;color: #696969;}#sk-container-id-1 label.sk-toggleable__label-arrow:hover:before {color: black;}#sk-container-id-1 div.sk-estimator:hover label.sk-toggleable__label-arrow:before {color: black;}#sk-container-id-1 div.sk-toggleable__content {max-height: 0;max-width: 0;overflow: hidden;text-align: left;background-color: #f0f8ff;}#sk-container-id-1 div.sk-toggleable__content pre {margin: 0.2em;color: black;border-radius: 0.25em;background-color: #f0f8ff;}#sk-container-id-1 input.sk-toggleable__control:checked~div.sk-toggleable__content {max-height: 200px;max-width: 100%;overflow: auto;}#sk-container-id-1 input.sk-toggleable__control:checked~label.sk-toggleable__label-arrow:before {content: \"▾\";}#sk-container-id-1 div.sk-estimator input.sk-toggleable__control:checked~label.sk-toggleable__label {background-color: #d4ebff;}#sk-container-id-1 div.sk-label input.sk-toggleable__control:checked~label.sk-toggleable__label {background-color: #d4ebff;}#sk-container-id-1 input.sk-hidden--visually {border: 0;clip: rect(1px 1px 1px 1px);clip: rect(1px, 1px, 1px, 1px);height: 1px;margin: -1px;overflow: hidden;padding: 0;position: absolute;width: 1px;}#sk-container-id-1 div.sk-estimator {font-family: monospace;background-color: #f0f8ff;border: 1px dotted black;border-radius: 0.25em;box-sizing: border-box;margin-bottom: 0.5em;}#sk-container-id-1 div.sk-estimator:hover {background-color: #d4ebff;}#sk-container-id-1 div.sk-parallel-item::after {content: \"\";width: 100%;border-bottom: 1px solid gray;flex-grow: 1;}#sk-container-id-1 div.sk-label:hover label.sk-toggleable__label {background-color: #d4ebff;}#sk-container-id-1 div.sk-serial::before {content: \"\";position: absolute;border-left: 1px solid gray;box-sizing: border-box;top: 0;bottom: 0;left: 50%;z-index: 0;}#sk-container-id-1 div.sk-serial {display: flex;flex-direction: column;align-items: center;background-color: white;padding-right: 0.2em;padding-left: 0.2em;position: relative;}#sk-container-id-1 div.sk-item {position: relative;z-index: 1;}#sk-container-id-1 div.sk-parallel {display: flex;align-items: stretch;justify-content: center;background-color: white;position: relative;}#sk-container-id-1 div.sk-item::before, #sk-container-id-1 div.sk-parallel-item::before {content: \"\";position: absolute;border-left: 1px solid gray;box-sizing: border-box;top: 0;bottom: 0;left: 50%;z-index: -1;}#sk-container-id-1 div.sk-parallel-item {display: flex;flex-direction: column;z-index: 1;position: relative;background-color: white;}#sk-container-id-1 div.sk-parallel-item:first-child::after {align-self: flex-end;width: 50%;}#sk-container-id-1 div.sk-parallel-item:last-child::after {align-self: flex-start;width: 50%;}#sk-container-id-1 div.sk-parallel-item:only-child::after {width: 0;}#sk-container-id-1 div.sk-dashed-wrapped {border: 1px dashed gray;margin: 0 0.4em 0.5em 0.4em;box-sizing: border-box;padding-bottom: 0.4em;background-color: white;}#sk-container-id-1 div.sk-label label {font-family: monospace;font-weight: bold;display: inline-block;line-height: 1.2em;}#sk-container-id-1 div.sk-label-container {text-align: center;}#sk-container-id-1 div.sk-container {/* jupyter's `normalize.less` sets `[hidden] { display: none; }` but bootstrap.min.css set `[hidden] { display: none !important; }` so we also need the `!important` here to be able to override the default hidden behavior on the sphinx rendered scikit-learn.org. See: https://github.com/scikit-learn/scikit-learn/issues/21755 */display: inline-block !important;position: relative;}#sk-container-id-1 div.sk-text-repr-fallback {display: none;}</style><div id=\"sk-container-id-1\" class=\"sk-top-container\"><div class=\"sk-text-repr-fallback\"><pre>XGBClassifier(base_score=None, booster=None, callbacks=None,\n",
       "              colsample_bylevel=None, colsample_bynode=None,\n",
       "              colsample_bytree=None, early_stopping_rounds=None,\n",
       "              enable_categorical=False, eval_metric=None, feature_types=None,\n",
       "              gamma=None, gpu_id=None, grow_policy=None, importance_type=None,\n",
       "              interaction_constraints=None, learning_rate=None, max_bin=None,\n",
       "              max_cat_threshold=None, max_cat_to_onehot=None,\n",
       "              max_delta_step=None, max_depth=None, max_leaves=None,\n",
       "              min_child_weight=None, missing=nan, monotone_constraints=None,\n",
       "              n_estimators=100, n_jobs=None, num_parallel_tree=None,\n",
       "              predictor=None, random_state=123, ...)</pre><b>In a Jupyter environment, please rerun this cell to show the HTML representation or trust the notebook. <br />On GitHub, the HTML representation is unable to render, please try loading this page with nbviewer.org.</b></div><div class=\"sk-container\" hidden><div class=\"sk-item\"><div class=\"sk-estimator sk-toggleable\"><input class=\"sk-toggleable__control sk-hidden--visually\" id=\"sk-estimator-id-1\" type=\"checkbox\" checked><label for=\"sk-estimator-id-1\" class=\"sk-toggleable__label sk-toggleable__label-arrow\">XGBClassifier</label><div class=\"sk-toggleable__content\"><pre>XGBClassifier(base_score=None, booster=None, callbacks=None,\n",
       "              colsample_bylevel=None, colsample_bynode=None,\n",
       "              colsample_bytree=None, early_stopping_rounds=None,\n",
       "              enable_categorical=False, eval_metric=None, feature_types=None,\n",
       "              gamma=None, gpu_id=None, grow_policy=None, importance_type=None,\n",
       "              interaction_constraints=None, learning_rate=None, max_bin=None,\n",
       "              max_cat_threshold=None, max_cat_to_onehot=None,\n",
       "              max_delta_step=None, max_depth=None, max_leaves=None,\n",
       "              min_child_weight=None, missing=nan, monotone_constraints=None,\n",
       "              n_estimators=100, n_jobs=None, num_parallel_tree=None,\n",
       "              predictor=None, random_state=123, ...)</pre></div></div></div></div></div>"
      ],
      "text/plain": [
       "XGBClassifier(base_score=None, booster=None, callbacks=None,\n",
       "              colsample_bylevel=None, colsample_bynode=None,\n",
       "              colsample_bytree=None, early_stopping_rounds=None,\n",
       "              enable_categorical=False, eval_metric=None, feature_types=None,\n",
       "              gamma=None, gpu_id=None, grow_policy=None, importance_type=None,\n",
       "              interaction_constraints=None, learning_rate=None, max_bin=None,\n",
       "              max_cat_threshold=None, max_cat_to_onehot=None,\n",
       "              max_delta_step=None, max_depth=None, max_leaves=None,\n",
       "              min_child_weight=None, missing=nan, monotone_constraints=None,\n",
       "              n_estimators=100, n_jobs=None, num_parallel_tree=None,\n",
       "              predictor=None, random_state=123, ...)"
      ]
     },
     "execution_count": 16,
     "metadata": {},
     "output_type": "execute_result"
    }
   ],
   "source": [
    "# Fit Model\n",
    "model_xgb = XGBClassifier(random_state=123)\n",
    "model_xgb.fit(X_train_resampled, y_train_resampled)\n"
   ]
  },
  {
   "cell_type": "markdown",
   "id": "dc12da43-573d-49c9-a218-8a836a8ba2a0",
   "metadata": {
    "tags": []
   },
   "source": [
    "## 7. Evaluate the model on the test set, and create the classification report and confusion matrix."
   ]
  },
  {
   "cell_type": "code",
   "execution_count": 17,
   "id": "256a1363-481c-4657-9967-fe035eef3f65",
   "metadata": {
    "tags": []
   },
   "outputs": [
    {
     "name": "stdout",
     "output_type": "stream",
     "text": [
      "              precision    recall  f1-score   support\n",
      "\n",
      "           0       0.85      0.53      0.66     32504\n",
      "           1       0.28      0.65      0.39      8948\n",
      "\n",
      "    accuracy                           0.56     41452\n",
      "   macro avg       0.56      0.59      0.52     41452\n",
      "weighted avg       0.73      0.56      0.60     41452\n",
      "\n",
      "[[17353 15151]\n",
      " [ 3104  5844]]\n"
     ]
    }
   ],
   "source": [
    "# Q3\n",
    "# Predict the model and get evaluation\n",
    "y_pred = model_xgb.predict(X_test)\n",
    "print(classification_report(y_test, y_pred))\n",
    "print(confusion_matrix(y_test, y_pred))\n"
   ]
  },
  {
   "cell_type": "code",
   "execution_count": 18,
   "id": "9c8ec70c-eccc-4ad1-921d-a3b51dbc247d",
   "metadata": {
    "tags": []
   },
   "outputs": [
    {
     "data": {
      "text/plain": [
       "0.6531068395172106"
      ]
     },
     "execution_count": 18,
     "metadata": {},
     "output_type": "execute_result"
    }
   ],
   "source": [
    "# Calculate recall for the 'Consumer disputed?' = 'Yes' category\n",
    "recall_disputed_test = recall_score(y_test, y_pred)  \n",
    "recall_disputed_test"
   ]
  },
  {
   "cell_type": "markdown",
   "id": "3914edeb-a305-4a76-b878-9c985eb340c0",
   "metadata": {},
   "source": [
    "## 8. Calculate the total cost if not using a model."
   ]
  },
  {
   "cell_type": "code",
   "execution_count": 19,
   "id": "5232b8dd-d2ca-48d2-ad64-843174753fbc",
   "metadata": {
    "tags": []
   },
   "outputs": [
    {
     "name": "stdout",
     "output_type": "stream",
     "text": [
      "Total cost (base case): 8619200\n"
     ]
    }
   ],
   "source": [
    "# Q4\n",
    "# Calculate the cost base on no model\n",
    "disputed = y_test.sum()\n",
    "non_disputed = len(y_test) - disputed\n",
    "\n",
    "cost = disputed * 600 + non_disputed * 100 \n",
    "print(\"Total cost (base case):\", cost)"
   ]
  },
  {
   "cell_type": "markdown",
   "id": "79b4672b-f5d3-42c5-9509-0d3ac95af665",
   "metadata": {},
   "source": [
    "## 9. Calculate the total cost in dollars based on the model results"
   ]
  },
  {
   "cell_type": "code",
   "execution_count": 20,
   "id": "7a58b42d-539e-42b6-b273-0177567ea6ba",
   "metadata": {
    "tags": []
   },
   "outputs": [
    {
     "name": "stdout",
     "output_type": "stream",
     "text": [
      "Total cost based on model results: $ 7586750\n"
     ]
    }
   ],
   "source": [
    "# Q5\n",
    "# Calculate the confusion matrix for the model's predictions\n",
    "conf_matrix = confusion_matrix(y_test, y_pred)\n",
    "\n",
    "# Define the cost structure\n",
    "cost_per_non_disputed = 100  # Cost for non-disputed complaint\n",
    "cost_per_disputed = 600     # Cost for disputed complaint\n",
    "cost_per_extra_diligence = 190  # Cost for performing extra diligence\n",
    "\n",
    "# Initialize variables to keep track of total costs\n",
    "total_cost_model_results = 0  # Total cost based on model results\n",
    "\n",
    "# Extract values from the confusion matrix\n",
    "true_negatives, false_positives, false_negatives, true_positives = conf_matrix.ravel()\n",
    "\n",
    "# Calculate the total cost based on the model results\n",
    "total_cost_model_results = (true_negatives * cost_per_non_disputed) + \\\n",
    "                           (false_negatives * cost_per_disputed) + \\\n",
    "                           (false_positives * cost_per_extra_diligence) + (true_positives * cost_per_extra_diligence)\n",
    "\n",
    "# Print the total cost based on model results\n",
    "print(\"Total cost based on model results: $\", total_cost_model_results)\n"
   ]
  },
  {
   "cell_type": "markdown",
   "id": "ed653c6c-5110-4b9e-a38b-eecdae072796",
   "metadata": {
    "tags": []
   },
   "source": [
    "## 10. Change the classification threshold on the model"
   ]
  },
  {
   "cell_type": "code",
   "execution_count": 23,
   "id": "7f9b7b27-48bb-4eb8-99ed-31ba8abf2f02",
   "metadata": {
    "tags": []
   },
   "outputs": [
    {
     "name": "stdout",
     "output_type": "stream",
     "text": [
      "Optimal threshold: 0.46\n",
      "Total cost at optimal threshold: $7491540\n"
     ]
    }
   ],
   "source": [
    "# Q6 and Q7\n",
    "# Predict the probabilities for the classes that are positive\n",
    "y_probs = model_xgb.predict_proba(X_test)[:, 1]\n",
    "\n",
    "# Define the cost function based on the problem statement\n",
    "def calculate_cost(threshold, y_true, y_probs):\n",
    "    y_pred = (y_probs >= threshold).astype(int)\n",
    "    tn, fp, fn, tp = confusion_matrix(y_true, y_pred).ravel()    \n",
    "    return (tp * (100 + 90)) + (fp * (100 + 90)) + (tn * 100) + (fn * 600)\n",
    "\n",
    "# Initialize the minimum cost to a large number and the optimal threshold to None\n",
    "min_cost = float('inf')\n",
    "optimal_threshold = None\n",
    "\n",
    "# Iterate over a range of thresholds to find the one that minimizes the total cost\n",
    "for threshold in np.linspace(0, 1, 101):  # 101 points between 0 and 1, inclusive\n",
    "    cost = calculate_cost(threshold, y_test, y_probs)\n",
    "    if cost < min_cost:\n",
    "        min_cost = cost\n",
    "        optimal_threshold = threshold\n",
    "\n",
    "# Output the optimal threshold and the corresponding cost\n",
    "print(f\"Optimal threshold: {optimal_threshold}\")\n",
    "print(f\"Total cost at optimal threshold: ${min_cost}\")"
   ]
  },
  {
   "cell_type": "code",
   "execution_count": null,
   "id": "9fb70461-0a9b-4c7d-856d-5cbcc98b97f3",
   "metadata": {},
   "outputs": [],
   "source": []
  }
 ],
 "metadata": {
  "kernelspec": {
   "display_name": "Python [conda env:mggy8413]",
   "language": "python",
   "name": "conda-env-mggy8413-py"
  },
  "language_info": {
   "codemirror_mode": {
    "name": "ipython",
    "version": 3
   },
   "file_extension": ".py",
   "mimetype": "text/x-python",
   "name": "python",
   "nbconvert_exporter": "python",
   "pygments_lexer": "ipython3",
   "version": "3.10.12"
  }
 },
 "nbformat": 4,
 "nbformat_minor": 5
}
